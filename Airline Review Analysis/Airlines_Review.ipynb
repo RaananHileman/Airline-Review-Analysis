{
    "cells": [
        {
            "cell_type": "markdown",
            "metadata": {},
            "source": [
                "# Airbnb Dublin Dataset Analysis Project\n",
                "In this notebook, you will analyze the dataset by cleaning and answering 15 questions.\n",
                "Please write your code in the provided cells for each question.\n",
                "use appropriate plots to visualize the data, and explain your findings.\n",
                "\n",
                "- BONUS - wrap your code with functions when possible and suitable. (only general functions, not specific to a question)"
            ]
        },
        {
            "cell_type": "markdown",
            "metadata": {},
            "source": [
                "## Importing Libraries \n"
            ]
        },
        {
            "cell_type": "code",
            "execution_count": 17,
            "metadata": {},
            "outputs": [
                {
                    "name": "stdout",
                    "output_type": "stream",
                    "text": [
                        "Requirement already satisfied: openpyxl in c:\\users\\yaelh\\appdata\\local\\programs\\python\\python313\\lib\\site-packages (3.1.5)\n",
                        "Requirement already satisfied: et-xmlfile in c:\\users\\yaelh\\appdata\\local\\programs\\python\\python313\\lib\\site-packages (from openpyxl) (2.0.0)\n"
                    ]
                },
                {
                    "name": "stderr",
                    "output_type": "stream",
                    "text": [
                        "\n",
                        "[notice] A new release of pip is available: 25.1.1 -> 25.2\n",
                        "[notice] To update, run: python.exe -m pip install --upgrade pip\n"
                    ]
                }
            ],
            "source": [
                "!python -m pip install openpyxl"
            ]
        },
        {
            "cell_type": "code",
            "execution_count": 18,
            "metadata": {},
            "outputs": [
                {
                    "name": "stdout",
                    "output_type": "stream",
                    "text": [
                        "Requirement already satisfied: matplotlib in c:\\users\\yaelh\\appdata\\local\\programs\\python\\python313\\lib\\site-packages (3.10.3)\n",
                        "Requirement already satisfied: contourpy>=1.0.1 in c:\\users\\yaelh\\appdata\\local\\programs\\python\\python313\\lib\\site-packages (from matplotlib) (1.3.3)\n",
                        "Requirement already satisfied: cycler>=0.10 in c:\\users\\yaelh\\appdata\\local\\programs\\python\\python313\\lib\\site-packages (from matplotlib) (0.12.1)\n",
                        "Requirement already satisfied: fonttools>=4.22.0 in c:\\users\\yaelh\\appdata\\local\\programs\\python\\python313\\lib\\site-packages (from matplotlib) (4.59.0)\n",
                        "Requirement already satisfied: kiwisolver>=1.3.1 in c:\\users\\yaelh\\appdata\\local\\programs\\python\\python313\\lib\\site-packages (from matplotlib) (1.4.8)\n",
                        "Requirement already satisfied: numpy>=1.23 in c:\\users\\yaelh\\appdata\\local\\programs\\python\\python313\\lib\\site-packages (from matplotlib) (2.3.1)\n",
                        "Requirement already satisfied: packaging>=20.0 in c:\\users\\yaelh\\appdata\\roaming\\python\\python313\\site-packages (from matplotlib) (25.0)\n",
                        "Requirement already satisfied: pillow>=8 in c:\\users\\yaelh\\appdata\\local\\programs\\python\\python313\\lib\\site-packages (from matplotlib) (11.3.0)\n",
                        "Requirement already satisfied: pyparsing>=2.3.1 in c:\\users\\yaelh\\appdata\\local\\programs\\python\\python313\\lib\\site-packages (from matplotlib) (3.2.3)\n",
                        "Requirement already satisfied: python-dateutil>=2.7 in c:\\users\\yaelh\\appdata\\roaming\\python\\python313\\site-packages (from matplotlib) (2.9.0.post0)\n",
                        "Requirement already satisfied: six>=1.5 in c:\\users\\yaelh\\appdata\\roaming\\python\\python313\\site-packages (from python-dateutil>=2.7->matplotlib) (1.17.0)\n",
                        "Note: you may need to restart the kernel to use updated packages.\n"
                    ]
                },
                {
                    "name": "stderr",
                    "output_type": "stream",
                    "text": [
                        "\n",
                        "[notice] A new release of pip is available: 25.1.1 -> 25.2\n",
                        "[notice] To update, run: python.exe -m pip install --upgrade pip\n"
                    ]
                }
            ],
            "source": [
                "pip install matplotlib\n"
            ]
        },
        {
            "cell_type": "code",
            "execution_count": 19,
            "metadata": {},
            "outputs": [
                {
                    "name": "stdout",
                    "output_type": "stream",
                    "text": [
                        "Requirement already satisfied: seaborn in c:\\users\\yaelh\\appdata\\local\\programs\\python\\python313\\lib\\site-packages (0.13.2)\n",
                        "Requirement already satisfied: numpy!=1.24.0,>=1.20 in c:\\users\\yaelh\\appdata\\local\\programs\\python\\python313\\lib\\site-packages (from seaborn) (2.3.1)\n",
                        "Requirement already satisfied: pandas>=1.2 in c:\\users\\yaelh\\appdata\\local\\programs\\python\\python313\\lib\\site-packages (from seaborn) (2.3.1)\n",
                        "Requirement already satisfied: matplotlib!=3.6.1,>=3.4 in c:\\users\\yaelh\\appdata\\local\\programs\\python\\python313\\lib\\site-packages (from seaborn) (3.10.3)\n",
                        "Requirement already satisfied: contourpy>=1.0.1 in c:\\users\\yaelh\\appdata\\local\\programs\\python\\python313\\lib\\site-packages (from matplotlib!=3.6.1,>=3.4->seaborn) (1.3.3)\n",
                        "Requirement already satisfied: cycler>=0.10 in c:\\users\\yaelh\\appdata\\local\\programs\\python\\python313\\lib\\site-packages (from matplotlib!=3.6.1,>=3.4->seaborn) (0.12.1)\n",
                        "Requirement already satisfied: fonttools>=4.22.0 in c:\\users\\yaelh\\appdata\\local\\programs\\python\\python313\\lib\\site-packages (from matplotlib!=3.6.1,>=3.4->seaborn) (4.59.0)\n",
                        "Requirement already satisfied: kiwisolver>=1.3.1 in c:\\users\\yaelh\\appdata\\local\\programs\\python\\python313\\lib\\site-packages (from matplotlib!=3.6.1,>=3.4->seaborn) (1.4.8)\n",
                        "Requirement already satisfied: packaging>=20.0 in c:\\users\\yaelh\\appdata\\roaming\\python\\python313\\site-packages (from matplotlib!=3.6.1,>=3.4->seaborn) (25.0)\n",
                        "Requirement already satisfied: pillow>=8 in c:\\users\\yaelh\\appdata\\local\\programs\\python\\python313\\lib\\site-packages (from matplotlib!=3.6.1,>=3.4->seaborn) (11.3.0)\n",
                        "Requirement already satisfied: pyparsing>=2.3.1 in c:\\users\\yaelh\\appdata\\local\\programs\\python\\python313\\lib\\site-packages (from matplotlib!=3.6.1,>=3.4->seaborn) (3.2.3)\n",
                        "Requirement already satisfied: python-dateutil>=2.7 in c:\\users\\yaelh\\appdata\\roaming\\python\\python313\\site-packages (from matplotlib!=3.6.1,>=3.4->seaborn) (2.9.0.post0)\n",
                        "Requirement already satisfied: pytz>=2020.1 in c:\\users\\yaelh\\appdata\\local\\programs\\python\\python313\\lib\\site-packages (from pandas>=1.2->seaborn) (2025.2)\n",
                        "Requirement already satisfied: tzdata>=2022.7 in c:\\users\\yaelh\\appdata\\local\\programs\\python\\python313\\lib\\site-packages (from pandas>=1.2->seaborn) (2025.2)\n",
                        "Requirement already satisfied: six>=1.5 in c:\\users\\yaelh\\appdata\\roaming\\python\\python313\\site-packages (from python-dateutil>=2.7->matplotlib!=3.6.1,>=3.4->seaborn) (1.17.0)\n"
                    ]
                },
                {
                    "name": "stderr",
                    "output_type": "stream",
                    "text": [
                        "\n",
                        "[notice] A new release of pip is available: 25.1.1 -> 25.2\n",
                        "[notice] To update, run: python.exe -m pip install --upgrade pip\n"
                    ]
                }
            ],
            "source": [
                "!python -m pip install seaborn\n"
            ]
        },
        {
            "cell_type": "code",
            "execution_count": 20,
            "metadata": {},
            "outputs": [
                {
                    "name": "stdout",
                    "output_type": "stream",
                    "text": [
                        "Requirement already satisfied: statsmodels in c:\\users\\yaelh\\appdata\\local\\programs\\python\\python313\\lib\\site-packages (0.14.5)\n",
                        "Requirement already satisfied: numpy<3,>=1.22.3 in c:\\users\\yaelh\\appdata\\local\\programs\\python\\python313\\lib\\site-packages (from statsmodels) (2.3.1)\n",
                        "Requirement already satisfied: scipy!=1.9.2,>=1.8 in c:\\users\\yaelh\\appdata\\local\\programs\\python\\python313\\lib\\site-packages (from statsmodels) (1.16.0)\n",
                        "Requirement already satisfied: pandas!=2.1.0,>=1.4 in c:\\users\\yaelh\\appdata\\local\\programs\\python\\python313\\lib\\site-packages (from statsmodels) (2.3.1)\n",
                        "Requirement already satisfied: patsy>=0.5.6 in c:\\users\\yaelh\\appdata\\local\\programs\\python\\python313\\lib\\site-packages (from statsmodels) (1.0.1)\n",
                        "Requirement already satisfied: packaging>=21.3 in c:\\users\\yaelh\\appdata\\roaming\\python\\python313\\site-packages (from statsmodels) (25.0)\n",
                        "Requirement already satisfied: python-dateutil>=2.8.2 in c:\\users\\yaelh\\appdata\\roaming\\python\\python313\\site-packages (from pandas!=2.1.0,>=1.4->statsmodels) (2.9.0.post0)\n",
                        "Requirement already satisfied: pytz>=2020.1 in c:\\users\\yaelh\\appdata\\local\\programs\\python\\python313\\lib\\site-packages (from pandas!=2.1.0,>=1.4->statsmodels) (2025.2)\n",
                        "Requirement already satisfied: tzdata>=2022.7 in c:\\users\\yaelh\\appdata\\local\\programs\\python\\python313\\lib\\site-packages (from pandas!=2.1.0,>=1.4->statsmodels) (2025.2)\n",
                        "Requirement already satisfied: six>=1.5 in c:\\users\\yaelh\\appdata\\roaming\\python\\python313\\site-packages (from python-dateutil>=2.8.2->pandas!=2.1.0,>=1.4->statsmodels) (1.17.0)\n",
                        "Note: you may need to restart the kernel to use updated packages.\n"
                    ]
                },
                {
                    "name": "stderr",
                    "output_type": "stream",
                    "text": [
                        "\n",
                        "[notice] A new release of pip is available: 25.1.1 -> 25.2\n",
                        "[notice] To update, run: python.exe -m pip install --upgrade pip\n"
                    ]
                }
            ],
            "source": [
                "pip install statsmodels\n"
            ]
        },
        {
            "cell_type": "code",
            "execution_count": 21,
            "metadata": {},
            "outputs": [],
            "source": [
                "import pandas as pd\n",
                "import numpy as np\n",
                "import matplotlib.pyplot as plt\n",
                "import seaborn as sns\n",
                "from statsmodels.stats.proportion import proportions_ztest\n",
                "import scipy.stats as stats"
            ]
        },
        {
            "cell_type": "markdown",
            "metadata": {},
            "source": [
                "## Functions Block (If needed)\n"
            ]
        },
        {
            "cell_type": "code",
            "execution_count": 22,
            "metadata": {},
            "outputs": [
                {
                    "name": "stdout",
                    "output_type": "stream",
                    "text": [
                        "                                     Title              Name Review Date  \\\n",
                        "0                       Flight was amazing  Alison Soetantyo  2024-03-01   \n",
                        "1     seats on this aircraft are dreadful      Robert Watson  2024-02-21   \n",
                        "2             Food was plentiful and tasty             S Han  2024-02-20   \n",
                        "3             “how much food was available          D Laynes  2024-02-19   \n",
                        "4          “service was consistently good”         A Othman   2024-02-19   \n",
                        "...                                    ...               ...         ...   \n",
                        "8095                  an uneventful flight         N Vickers  2016-06-20   \n",
                        "8096           Korean Air always impresses      Kim Holloway  2016-06-12   \n",
                        "8097                 didn’t offer anything           C Clark  2016-06-06   \n",
                        "8098       appreciated the service onboard           E Petan  2016-04-21   \n",
                        "8099              genuinely friendly staff           D Lanor  2016-04-12   \n",
                        "\n",
                        "                 Airline Verified  \\\n",
                        "0     Singapore Airlines     True   \n",
                        "1     Singapore Airlines     True   \n",
                        "2     Singapore Airlines     True   \n",
                        "3     Singapore Airlines     True   \n",
                        "4     Singapore Airlines     True   \n",
                        "...                  ...      ...   \n",
                        "8095          Korean Air     True   \n",
                        "8096          Korean Air    False   \n",
                        "8097          Korean Air     True   \n",
                        "8098          Korean Air    False   \n",
                        "8099          Korean Air    False   \n",
                        "\n",
                        "                                                Reviews Type of Traveller  \\\n",
                        "0       Flight was amazing. The crew onboard this fl...      Solo Leisure   \n",
                        "1       Booking an emergency exit seat still meant h...      Solo Leisure   \n",
                        "2       Excellent performance on all fronts. I would...    Family Leisure   \n",
                        "3      Pretty comfortable flight considering I was f...      Solo Leisure   \n",
                        "4      The service was consistently good from start ...    Family Leisure   \n",
                        "...                                                 ...               ...   \n",
                        "8095    KE124, Brisbane to Incheon (A330) and KE867,...          Business   \n",
                        "8096    Our recent flight was our fourth trip to the...    Couple Leisure   \n",
                        "8097    I flew Korean Air from Bali to Seoul in Pres...          Business   \n",
                        "8098    Seoul to Paris with Korean Air. I am traveli...          Business   \n",
                        "8099    The 13 hour flight in Business class from Se...          Business   \n",
                        "\n",
                        "        Month Flown                         Route           Class  \\\n",
                        "0     December 2023          Jakarta to Singapore  Business Class   \n",
                        "1     February 2024           Phuket to Singapore   Economy Class   \n",
                        "2     February 2024        Siem Reap to Singapore   Economy Class   \n",
                        "3     February 2024  Singapore to London Heathrow   Economy Class   \n",
                        "4     February 2024       Singapore to Phnom Penh   Economy Class   \n",
                        "...             ...                           ...             ...   \n",
                        "8095      June 2016            BNE to ULN via ICN   Economy Class   \n",
                        "8096      June 2016            SYD to LHR via ICN   Economy Class   \n",
                        "8097     April 2016                    DPS to ICN  Business Class   \n",
                        "8098     April 2016                    ICN to CDG  Business Class   \n",
                        "8099     April 2016                    ICN to YYZ  Business Class   \n",
                        "\n",
                        "      Seat Comfort  Staff Service  Food & Beverages  Inflight Entertainment  \\\n",
                        "0                4              4                 4                       4   \n",
                        "1                5              3                 4                       4   \n",
                        "2                1              5                 2                       1   \n",
                        "3                5              5                 5                       5   \n",
                        "4                5              5                 5                       5   \n",
                        "...            ...            ...               ...                     ...   \n",
                        "8095             5              4                 5                       3   \n",
                        "8096             3              5                 5                       4   \n",
                        "8097             4              5                 5                       5   \n",
                        "8098             5              1                 3                       4   \n",
                        "8099             3              5                 3                       3   \n",
                        "\n",
                        "      Value For Money  Overall Rating Recommended  \n",
                        "0                   4               9         yes  \n",
                        "1                   1               3          no  \n",
                        "2                   5              10         yes  \n",
                        "3                   5              10         yes  \n",
                        "4                   5              10         yes  \n",
                        "...               ...             ...         ...  \n",
                        "8095                4               7         yes  \n",
                        "8096                5              10         yes  \n",
                        "8097                1               2          no  \n",
                        "8098                5              10         yes  \n",
                        "8099                5              10         yes  \n",
                        "\n",
                        "[8100 rows x 17 columns]\n"
                    ]
                }
            ],
            "source": [
                "url_reviews = \"https://raw.githubusercontent.com/RaananHileman/Airline-Review-Analysis/main/Airline%20Review%20Analysis/airlines_reviews.csv\"\n",
                "df_reviews = pd.read_csv(url_reviews)\n",
                "print(df_reviews)\n"
            ]
        },
        {
            "cell_type": "code",
            "execution_count": 23,
            "metadata": {},
            "outputs": [],
            "source": [
                "# Open the files\n",
                "# df_airlines = pd.read_csv(r\"C:\\Users\\yaelh\\OneDrive\\Documentos\\Data Analyst Course\\Python\\Final Group Project\\airlines_reviews.csv\")"
            ]
        },
        {
            "cell_type": "code",
            "execution_count": 24,
            "metadata": {},
            "outputs": [
                {
                    "name": "stdout",
                    "output_type": "stream",
                    "text": [
                        "              Airline  Airline Code   Total Flights   Min time   Average Time  \\\n",
                        "0  Singapore Airlines           SIA            1485         65            136   \n",
                        "1       Qatar Airways           QTR            8037         44            148   \n",
                        "2  All Nippon Airways           ANA            3067         38             90   \n",
                        "3            Emirates           UAE            2393         82            166   \n",
                        "4      Japan Airlines           JAL            2534         44            100   \n",
                        "5      Cathay Pacific           CPA            1324         35            136   \n",
                        "6    Turkish Airlines           THY            2593         58            116   \n",
                        "7          Air France           AFR            4236         39            103   \n",
                        "8         EVA Airways           EVA             734         70            135   \n",
                        "9          Korean Air           KAL             834         54            133   \n",
                        "\n",
                        "    Max Time  \n",
                        "0        239  \n",
                        "1        239  \n",
                        "2        238  \n",
                        "3        239  \n",
                        "4        239  \n",
                        "5        239  \n",
                        "6        239  \n",
                        "7        239  \n",
                        "8        239  \n",
                        "9        238  \n"
                    ]
                }
            ],
            "source": [
                "\n",
                "url_summary = \"https://raw.githubusercontent.com/RaananHileman/Airline-Review-Analysis/main/Airline%20Review%20Analysis/Airline%20Summaries.txt\"\n",
                "df_summary = pd.read_csv(url_summary)\n",
                "print(df_summary)"
            ]
        },
        {
            "cell_type": "code",
            "execution_count": 25,
            "metadata": {},
            "outputs": [
                {
                    "name": "stdout",
                    "output_type": "stream",
                    "text": [
                        "                                  Title              Name Review Date  \\\n",
                        "0                    Flight was amazing  Alison Soetantyo  2024-03-01   \n",
                        "1  seats on this aircraft are dreadful      Robert Watson  2024-02-21   \n",
                        "2          Food was plentiful and tasty             S Han  2024-02-20   \n",
                        "3          “how much food was available          D Laynes  2024-02-19   \n",
                        "4       “service was consistently good”         A Othman   2024-02-19   \n",
                        "\n",
                        "              Airline Verified  \\\n",
                        "0  Singapore Airlines     True   \n",
                        "1  Singapore Airlines     True   \n",
                        "2  Singapore Airlines     True   \n",
                        "3  Singapore Airlines     True   \n",
                        "4  Singapore Airlines     True   \n",
                        "\n",
                        "                                             Reviews Type of Traveller  \\\n",
                        "0    Flight was amazing. The crew onboard this fl...      Solo Leisure   \n",
                        "1    Booking an emergency exit seat still meant h...      Solo Leisure   \n",
                        "2    Excellent performance on all fronts. I would...    Family Leisure   \n",
                        "3   Pretty comfortable flight considering I was f...      Solo Leisure   \n",
                        "4   The service was consistently good from start ...    Family Leisure   \n",
                        "\n",
                        "     Month Flown                         Route           Class  Seat Comfort  \\\n",
                        "0  December 2023          Jakarta to Singapore  Business Class             4   \n",
                        "1  February 2024           Phuket to Singapore   Economy Class             5   \n",
                        "2  February 2024        Siem Reap to Singapore   Economy Class             1   \n",
                        "3  February 2024  Singapore to London Heathrow   Economy Class             5   \n",
                        "4  February 2024       Singapore to Phnom Penh   Economy Class             5   \n",
                        "\n",
                        "   Staff Service  Food & Beverages  Inflight Entertainment  Value For Money  \\\n",
                        "0              4                 4                       4                4   \n",
                        "1              3                 4                       4                1   \n",
                        "2              5                 2                       1                5   \n",
                        "3              5                 5                       5                5   \n",
                        "4              5                 5                       5                5   \n",
                        "\n",
                        "   Overall Rating Recommended  \n",
                        "0               9         yes  \n",
                        "1               3          no  \n",
                        "2              10         yes  \n",
                        "3              10         yes  \n",
                        "4              10         yes  \n"
                    ]
                }
            ],
            "source": [
                "print(df_reviews.head())"
            ]
        },
        {
            "cell_type": "markdown",
            "metadata": {},
            "source": [
                "## Data Preprocessing and Cleaning Block\n",
                "\n"
            ]
        },
        {
            "cell_type": "code",
            "execution_count": 26,
            "metadata": {},
            "outputs": [
                {
                    "data": {
                        "text/plain": [
                            "Index(['Title', 'Name', 'Review Date', 'Airline', 'Verified', 'Reviews',\n",
                            "       'Type of Traveller', 'Month Flown', 'Route', 'Class', 'Seat Comfort',\n",
                            "       'Staff Service', 'Food & Beverages', 'Inflight Entertainment',\n",
                            "       'Value For Money', 'Overall Rating', 'Recommended'],\n",
                            "      dtype='object')"
                        ]
                    },
                    "execution_count": 26,
                    "metadata": {},
                    "output_type": "execute_result"
                }
            ],
            "source": [
                "df_reviews.columns"
            ]
        },
        {
            "cell_type": "code",
            "execution_count": 27,
            "metadata": {},
            "outputs": [
                {
                    "name": "stdout",
                    "output_type": "stream",
                    "text": [
                        "<class 'pandas.core.frame.DataFrame'>\n",
                        "RangeIndex: 8100 entries, 0 to 8099\n",
                        "Data columns (total 17 columns):\n",
                        " #   Column                  Non-Null Count  Dtype \n",
                        "---  ------                  --------------  ----- \n",
                        " 0   Title                   8100 non-null   object\n",
                        " 1   Name                    8100 non-null   object\n",
                        " 2   Review Date             8100 non-null   object\n",
                        " 3   Airline                 8100 non-null   object\n",
                        " 4   Verified                8100 non-null   object\n",
                        " 5   Reviews                 8100 non-null   object\n",
                        " 6   Type of Traveller       8100 non-null   object\n",
                        " 7   Month Flown             8100 non-null   object\n",
                        " 8   Route                   8100 non-null   object\n",
                        " 9   Class                   8100 non-null   object\n",
                        " 10  Seat Comfort            8100 non-null   int64 \n",
                        " 11  Staff Service           8100 non-null   int64 \n",
                        " 12  Food & Beverages        8100 non-null   int64 \n",
                        " 13  Inflight Entertainment  8100 non-null   int64 \n",
                        " 14  Value For Money         8100 non-null   int64 \n",
                        " 15  Overall Rating          8100 non-null   int64 \n",
                        " 16  Recommended             8100 non-null   object\n",
                        "dtypes: int64(6), object(11)\n",
                        "memory usage: 1.1+ MB\n"
                    ]
                }
            ],
            "source": [
                "df_reviews.info()"
            ]
        },
        {
            "cell_type": "code",
            "execution_count": 30,
            "metadata": {},
            "outputs": [],
            "source": [
                "# We want to clean the Route column\n",
                "valid_routes = df_reviews[df_reviews['Route'].str.count(\" to \") == 1].copy()"
            ]
        },
        {
            "cell_type": "code",
            "execution_count": 31,
            "metadata": {},
            "outputs": [
                {
                    "name": "stdout",
                    "output_type": "stream",
                    "text": [
                        "<class 'pandas.core.frame.DataFrame'>\n",
                        "Index: 8088 entries, 0 to 8099\n",
                        "Data columns (total 17 columns):\n",
                        " #   Column                  Non-Null Count  Dtype \n",
                        "---  ------                  --------------  ----- \n",
                        " 0   Title                   8088 non-null   object\n",
                        " 1   Name                    8088 non-null   object\n",
                        " 2   Review Date             8088 non-null   object\n",
                        " 3   Airline                 8088 non-null   object\n",
                        " 4   Verified                8088 non-null   object\n",
                        " 5   Reviews                 8088 non-null   object\n",
                        " 6   Type of Traveller       8088 non-null   object\n",
                        " 7   Month Flown             8088 non-null   object\n",
                        " 8   Route                   8088 non-null   object\n",
                        " 9   Class                   8088 non-null   object\n",
                        " 10  Seat Comfort            8088 non-null   int64 \n",
                        " 11  Staff Service           8088 non-null   int64 \n",
                        " 12  Food & Beverages        8088 non-null   int64 \n",
                        " 13  Inflight Entertainment  8088 non-null   int64 \n",
                        " 14  Value For Money         8088 non-null   int64 \n",
                        " 15  Overall Rating          8088 non-null   int64 \n",
                        " 16  Recommended             8088 non-null   object\n",
                        "dtypes: int64(6), object(11)\n",
                        "memory usage: 1.1+ MB\n"
                    ]
                }
            ],
            "source": [
                "valid_routes.info()"
            ]
        },
        {
            "cell_type": "code",
            "execution_count": 32,
            "metadata": {},
            "outputs": [],
            "source": [
                "valid_routes[['Origin', 'Destination']] = valid_routes['Route'].str.split(\" to \", expand=True)\n"
            ]
        },
        {
            "cell_type": "code",
            "execution_count": 33,
            "metadata": {},
            "outputs": [
                {
                    "name": "stdout",
                    "output_type": "stream",
                    "text": [
                        "<class 'pandas.core.frame.DataFrame'>\n",
                        "Index: 8088 entries, 0 to 8099\n",
                        "Data columns (total 19 columns):\n",
                        " #   Column                  Non-Null Count  Dtype \n",
                        "---  ------                  --------------  ----- \n",
                        " 0   Title                   8088 non-null   object\n",
                        " 1   Name                    8088 non-null   object\n",
                        " 2   Review Date             8088 non-null   object\n",
                        " 3   Airline                 8088 non-null   object\n",
                        " 4   Verified                8088 non-null   object\n",
                        " 5   Reviews                 8088 non-null   object\n",
                        " 6   Type of Traveller       8088 non-null   object\n",
                        " 7   Month Flown             8088 non-null   object\n",
                        " 8   Route                   8088 non-null   object\n",
                        " 9   Class                   8088 non-null   object\n",
                        " 10  Seat Comfort            8088 non-null   int64 \n",
                        " 11  Staff Service           8088 non-null   int64 \n",
                        " 12  Food & Beverages        8088 non-null   int64 \n",
                        " 13  Inflight Entertainment  8088 non-null   int64 \n",
                        " 14  Value For Money         8088 non-null   int64 \n",
                        " 15  Overall Rating          8088 non-null   int64 \n",
                        " 16  Recommended             8088 non-null   object\n",
                        " 17  Origin                  8088 non-null   object\n",
                        " 18  Destination             8088 non-null   object\n",
                        "dtypes: int64(6), object(13)\n",
                        "memory usage: 1.2+ MB\n"
                    ]
                }
            ],
            "source": [
                "valid_routes.info()"
            ]
        },
        {
            "cell_type": "code",
            "execution_count": 34,
            "metadata": {},
            "outputs": [
                {
                    "data": {
                        "text/plain": [
                            "Title                     0\n",
                            "Name                      0\n",
                            "Review Date               0\n",
                            "Airline                   0\n",
                            "Verified                  0\n",
                            "Reviews                   0\n",
                            "Type of Traveller         0\n",
                            "Month Flown               0\n",
                            "Route                     0\n",
                            "Class                     0\n",
                            "Seat Comfort              0\n",
                            "Staff Service             0\n",
                            "Food & Beverages          0\n",
                            "Inflight Entertainment    0\n",
                            "Value For Money           0\n",
                            "Overall Rating            0\n",
                            "Recommended               0\n",
                            "Origin                    0\n",
                            "Destination               0\n",
                            "dtype: int64"
                        ]
                    },
                    "execution_count": 34,
                    "metadata": {},
                    "output_type": "execute_result"
                }
            ],
            "source": [
                "valid_routes.isnull().sum()"
            ]
        },
        {
            "cell_type": "code",
            "execution_count": 36,
            "metadata": {},
            "outputs": [
                {
                    "name": "stdout",
                    "output_type": "stream",
                    "text": [
                        "10\n"
                    ]
                }
            ],
            "source": [
                "print(valid_routes['Airline'].nunique())"
            ]
        },
        {
            "cell_type": "markdown",
            "metadata": {},
            "source": [
                "## Data Analysis Block\n"
            ]
        },
        {
            "cell_type": "markdown",
            "metadata": {},
            "source": [
                "## 1. What is the average length of stay for guests? Analyze how the stay duration (in days) differs across different room types (e.g., private room, shared room, entire home).\n",
                "Create a plot to visualize the average stay duration for each room type."
            ]
        },
        {
            "cell_type": "markdown",
            "metadata": {},
            "source": [
                "## Conclusions"
            ]
        },
        {
            "cell_type": "markdown",
            "metadata": {},
            "source": []
        },
        {
            "cell_type": "markdown",
            "metadata": {},
            "source": [
                "## Conclusions, insights and actions\n",
                "\n",
                "1. Optimize Supply of Popular Room Types\n",
                "Insight: Guests mostly stay in private rooms and shared rooms, with an average stay of around 20 days.\n",
                "\n",
                "Action: Encourage hosts to list more private rooms and optimize search visibility for these types. Emphasize listings suitable for medium to long-term stays.\n",
                "\n",
                "2. Reevaluate Underperforming Accommodation Types\n",
                "Insight: Shared rooms and entire apartments have lower booking success rates.\n",
                "\n",
                "Action: Review pricing, quality, and competitiveness of these listings. Consider deprioritizing or enhancing them with better photos or descriptions.\n",
                "\n",
                "3. Leverage Guest Behavior Based on Contact Timing\n",
                "Insight: Most guest-to-host contacts happen between 6 PM and 9 PM.\n",
                "\n",
                "Action: Schedule push notifications, email reminders, or dynamic ad placements before peak hours. Encourage hosts to stay responsive during this window.\n",
                "\n",
                "4. Target by Stay Duration\n",
                "Insight: Guests staying longer tend to make more contacts per search.\n",
                "\n",
                "Action: Highlight long-term booking benefits and enable specific marketing or discounts for longer stays.\n",
                "\n",
                "5. Country-Specific Search Patterns\n",
                "Insight: Guests from Burkina Faso, Bulgaria, and Nigeria tend to perform more searches before contacting hosts.\n",
                "\n",
                "Action: Improve user experience for high-search users (e.g., smarter suggestions, easier filtering), and consider targeted ads or localized UX adjustments for these countries.\n",
                "\n",
                "6. Price Sensitivity and Optimization\n",
                "Insight: The most popular price range across all guests is between €50 and €150.\n",
                "\n",
                "Action: Guide hosts to set prices within this range to increase visibility. Consider smart pricing tools or dynamic pricing suggestions.\n",
                "\n",
                "7. Higher Booking Success with Small Groups\n",
                "Insight: Searches for 2 guests result in significantly higher booking success than those for solo travelers.\n",
                "\n",
                "Action: Prioritize listings and UX for couples or small groups in recommendations and promotions.\n",
                "\n",
                "8. Seasonal Booking Trends\n",
                "Insight: Booking success peaks in June and is lowest in February, March, and April.\n",
                "\n",
                "Action: Intensify marketing and discount campaigns during off-peak months. Adjust host incentives and promotions based on seasonal trends.\n",
                "\n",
                "9. Short-Term Booking Behavior\n",
                "Insight: Most bookings happen within 0–40 days before check-in.\n",
                "\n",
                "Action: Emphasize flexible listings and last-minute deals. Hosts should ensure availability and pricing are optimized for this short lead time.\n",
                "\n",
                "10. Response Time Not a Major Cancellation Factor\n",
                "Insight: Median response times are similar for successful and canceled bookings. Outliers skew the mean.\n",
                "\n",
                "Action: Avoid relying solely on response time as a quality metric. Instead, focus on acceptance rates or guest satisfaction scores.\n",
                "\n",
                "11. Filter Usage Varies by Group Size\n",
                "Insight: Groups of 2 guests apply the most filters; usage declines slightly for larger groups and is lowest for solo travelers.\n",
                "\n",
                "Action: Personalize search experiences by group size — show more filters for groups of 2+, and keep it simple for solo users."
            ]
        }
    ],
    "metadata": {
        "kernelspec": {
            "display_name": "Python 3",
            "language": "python",
            "name": "python3"
        },
        "language_info": {
            "codemirror_mode": {
                "name": "ipython",
                "version": 3
            },
            "file_extension": ".py",
            "mimetype": "text/x-python",
            "name": "python",
            "nbconvert_exporter": "python",
            "pygments_lexer": "ipython3",
            "version": "3.13.5"
        }
    },
    "nbformat": 4,
    "nbformat_minor": 4
}
